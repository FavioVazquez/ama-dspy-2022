{
 "cells": [
  {
   "cell_type": "markdown",
   "id": "4bce2923",
   "metadata": {},
   "source": [
    "# Introducción a Python en 10 mins"
   ]
  },
  {
   "cell_type": "markdown",
   "id": "082c907e",
   "metadata": {},
   "source": [
    "## Hello Python"
   ]
  },
  {
   "cell_type": "code",
   "execution_count": 6,
   "id": "0550d8dd",
   "metadata": {},
   "outputs": [
    {
     "name": "stdout",
     "output_type": "stream",
     "text": [
      "Hello world!\n"
     ]
    }
   ],
   "source": [
    "print(\"Hello world!\")"
   ]
  },
  {
   "cell_type": "markdown",
   "id": "6754310e",
   "metadata": {},
   "source": [
    "## Python como calculadora"
   ]
  },
  {
   "cell_type": "code",
   "execution_count": 1,
   "id": "43eabd35",
   "metadata": {},
   "outputs": [
    {
     "data": {
      "text/plain": [
       "4"
      ]
     },
     "execution_count": 1,
     "metadata": {},
     "output_type": "execute_result"
    }
   ],
   "source": [
    "2+2"
   ]
  },
  {
   "cell_type": "code",
   "execution_count": 2,
   "id": "437a58c7",
   "metadata": {},
   "outputs": [
    {
     "data": {
      "text/plain": [
       "13"
      ]
     },
     "execution_count": 2,
     "metadata": {},
     "output_type": "execute_result"
    }
   ],
   "source": [
    "3+10"
   ]
  },
  {
   "cell_type": "code",
   "execution_count": 3,
   "id": "d862c2e0",
   "metadata": {},
   "outputs": [
    {
     "data": {
      "text/plain": [
       "0"
      ]
     },
     "execution_count": 3,
     "metadata": {},
     "output_type": "execute_result"
    }
   ],
   "source": [
    "10-10"
   ]
  },
  {
   "cell_type": "code",
   "execution_count": 4,
   "id": "21c95525",
   "metadata": {},
   "outputs": [
    {
     "data": {
      "text/plain": [
       "20"
      ]
     },
     "execution_count": 4,
     "metadata": {},
     "output_type": "execute_result"
    }
   ],
   "source": [
    "12+10-2"
   ]
  },
  {
   "cell_type": "markdown",
   "id": "02f66b07",
   "metadata": {},
   "source": [
    "## Comentarios"
   ]
  },
  {
   "cell_type": "code",
   "execution_count": 7,
   "id": "4a989b5a",
   "metadata": {},
   "outputs": [],
   "source": [
    "# Esto es un comentario"
   ]
  },
  {
   "cell_type": "code",
   "execution_count": 8,
   "id": "d623daf8",
   "metadata": {},
   "outputs": [],
   "source": [
    "# Ya quiero hacer machine learning"
   ]
  },
  {
   "cell_type": "code",
   "execution_count": 9,
   "id": "8b0378f4",
   "metadata": {},
   "outputs": [
    {
     "data": {
      "text/plain": [
       "4"
      ]
     },
     "execution_count": 9,
     "metadata": {},
     "output_type": "execute_result"
    }
   ],
   "source": [
    "# Esto es una suma\n",
    "2+2"
   ]
  },
  {
   "cell_type": "markdown",
   "id": "21675c52",
   "metadata": {},
   "source": [
    "## Operaciones aritméticas"
   ]
  },
  {
   "cell_type": "code",
   "execution_count": null,
   "id": "cbaeee33",
   "metadata": {},
   "outputs": [],
   "source": [
    "# Suma\n",
    "19+20"
   ]
  },
  {
   "cell_type": "code",
   "execution_count": null,
   "id": "6c57a4a5",
   "metadata": {},
   "outputs": [],
   "source": [
    "# Resta\n",
    "10-12"
   ]
  },
  {
   "cell_type": "code",
   "execution_count": null,
   "id": "1691874b",
   "metadata": {},
   "outputs": [],
   "source": [
    "# Multiplicación\n",
    "4*20"
   ]
  },
  {
   "cell_type": "code",
   "execution_count": null,
   "id": "c86ef56a",
   "metadata": {
    "lang": "en"
   },
   "outputs": [],
   "source": [
    "# División\n",
    "10/3"
   ]
  },
  {
   "cell_type": "code",
   "execution_count": 13,
   "id": "0f986637",
   "metadata": {},
   "outputs": [
    {
     "data": {
      "text/plain": [
       "-33"
      ]
     },
     "execution_count": 13,
     "metadata": {},
     "output_type": "execute_result"
    }
   ],
   "source": [
    "# Importancia de los signos\n",
    "\n",
    "10 - 20 * 2 - 3"
   ]
  },
  {
   "cell_type": "code",
   "execution_count": 14,
   "id": "5ebaf7a5",
   "metadata": {},
   "outputs": [
    {
     "data": {
      "text/plain": [
       "10"
      ]
     },
     "execution_count": 14,
     "metadata": {},
     "output_type": "execute_result"
    }
   ],
   "source": [
    "# Paréntesis\n",
    "\n",
    "(10 - 20) * (2 - 3)"
   ]
  },
  {
   "cell_type": "code",
   "execution_count": 15,
   "id": "27146145",
   "metadata": {},
   "outputs": [
    {
     "data": {
      "text/plain": [
       "3"
      ]
     },
     "execution_count": 15,
     "metadata": {},
     "output_type": "execute_result"
    }
   ],
   "source": [
    "# División entera\n",
    "10//3"
   ]
  },
  {
   "cell_type": "code",
   "execution_count": 17,
   "id": "90e7216f",
   "metadata": {},
   "outputs": [
    {
     "data": {
      "text/plain": [
       "1"
      ]
     },
     "execution_count": 17,
     "metadata": {},
     "output_type": "execute_result"
    }
   ],
   "source": [
    "# Operador módulo\n",
    "10 % 3"
   ]
  },
  {
   "cell_type": "code",
   "execution_count": 18,
   "id": "f5471f37",
   "metadata": {},
   "outputs": [
    {
     "data": {
      "text/plain": [
       "1024"
      ]
     },
     "execution_count": 18,
     "metadata": {},
     "output_type": "execute_result"
    }
   ],
   "source": [
    "# Potencia\n",
    "\n",
    "2**10"
   ]
  },
  {
   "cell_type": "markdown",
   "id": "a3ba8d13",
   "metadata": {},
   "source": [
    "## Variables"
   ]
  },
  {
   "cell_type": "code",
   "execution_count": null,
   "id": "ab58923f",
   "metadata": {},
   "outputs": [],
   "source": [
    "a = 2"
   ]
  },
  {
   "cell_type": "code",
   "execution_count": null,
   "id": "e40f7a33",
   "metadata": {},
   "outputs": [],
   "source": [
    "b = 3"
   ]
  },
  {
   "cell_type": "code",
   "execution_count": null,
   "id": "1e29a466",
   "metadata": {},
   "outputs": [],
   "source": [
    "a + b"
   ]
  },
  {
   "cell_type": "code",
   "execution_count": null,
   "id": "bc2c0aab",
   "metadata": {},
   "outputs": [],
   "source": [
    "c = a + b"
   ]
  },
  {
   "cell_type": "code",
   "execution_count": null,
   "id": "f70724a5",
   "metadata": {},
   "outputs": [],
   "source": [
    "a = 3"
   ]
  },
  {
   "cell_type": "code",
   "execution_count": null,
   "id": "478e8f22",
   "metadata": {},
   "outputs": [],
   "source": [
    "c"
   ]
  },
  {
   "cell_type": "code",
   "execution_count": null,
   "id": "20424350",
   "metadata": {},
   "outputs": [],
   "source": [
    "c = c + c"
   ]
  },
  {
   "cell_type": "code",
   "execution_count": null,
   "id": "024e5a7e",
   "metadata": {},
   "outputs": [],
   "source": [
    "c"
   ]
  },
  {
   "cell_type": "markdown",
   "id": "0d752546",
   "metadata": {},
   "source": [
    "## Tipos de datos"
   ]
  },
  {
   "cell_type": "code",
   "execution_count": 24,
   "id": "8e5697b6",
   "metadata": {},
   "outputs": [
    {
     "name": "stdout",
     "output_type": "stream",
     "text": [
      "Entero: 2\n",
      "Flotante: 3.4\n",
      "String: hola\n",
      "Lista: [1, 2, 3]\n",
      "Tupla: (1, 2, 33)\n",
      "Diccionario: {'nombre': 'Favio'}\n"
     ]
    }
   ],
   "source": [
    "print(\"Entero:\", 2)\n",
    "print(\"Flotante:\", 3.4)\n",
    "print(\"String:\", \"hola\")\n",
    "print(\"Lista:\", [1,2,3])\n",
    "print(\"Tupla:\", (1,2,33))\n",
    "print(\"Diccionario:\", {\"nombre\":\"Favio\"})"
   ]
  },
  {
   "cell_type": "markdown",
   "id": "bce2d3ef",
   "metadata": {},
   "source": [
    "## Indexado y slicing"
   ]
  },
  {
   "cell_type": "code",
   "execution_count": 25,
   "id": "32eaff72",
   "metadata": {},
   "outputs": [],
   "source": [
    "mi_lista = [1,2,3,4,5]"
   ]
  },
  {
   "cell_type": "code",
   "execution_count": 27,
   "id": "d1b110aa",
   "metadata": {},
   "outputs": [
    {
     "data": {
      "text/plain": [
       "1"
      ]
     },
     "execution_count": 27,
     "metadata": {},
     "output_type": "execute_result"
    }
   ],
   "source": [
    "mi_lista[0]"
   ]
  },
  {
   "cell_type": "code",
   "execution_count": 28,
   "id": "a536ff69",
   "metadata": {},
   "outputs": [
    {
     "data": {
      "text/plain": [
       "2"
      ]
     },
     "execution_count": 28,
     "metadata": {},
     "output_type": "execute_result"
    }
   ],
   "source": [
    "mi_lista[1]"
   ]
  },
  {
   "cell_type": "code",
   "execution_count": 29,
   "id": "277edacf",
   "metadata": {},
   "outputs": [
    {
     "data": {
      "text/plain": [
       "[2, 3]"
      ]
     },
     "execution_count": 29,
     "metadata": {},
     "output_type": "execute_result"
    }
   ],
   "source": [
    "mi_lista[1:3]"
   ]
  },
  {
   "cell_type": "code",
   "execution_count": 30,
   "id": "8b042778",
   "metadata": {},
   "outputs": [
    {
     "data": {
      "text/plain": [
       "5"
      ]
     },
     "execution_count": 30,
     "metadata": {},
     "output_type": "execute_result"
    }
   ],
   "source": [
    "mi_lista[-1]"
   ]
  },
  {
   "cell_type": "markdown",
   "id": "9e8ea114",
   "metadata": {},
   "source": [
    "## Operadores lógicos"
   ]
  },
  {
   "cell_type": "code",
   "execution_count": 31,
   "id": "d8636320",
   "metadata": {},
   "outputs": [
    {
     "data": {
      "text/plain": [
       "True"
      ]
     },
     "execution_count": 31,
     "metadata": {},
     "output_type": "execute_result"
    }
   ],
   "source": [
    "1 == 1"
   ]
  },
  {
   "cell_type": "code",
   "execution_count": 32,
   "id": "b07d4e43",
   "metadata": {},
   "outputs": [
    {
     "data": {
      "text/plain": [
       "False"
      ]
     },
     "execution_count": 32,
     "metadata": {},
     "output_type": "execute_result"
    }
   ],
   "source": [
    "2 < 1"
   ]
  },
  {
   "cell_type": "code",
   "execution_count": 33,
   "id": "018ef82b",
   "metadata": {},
   "outputs": [
    {
     "data": {
      "text/plain": [
       "True"
      ]
     },
     "execution_count": 33,
     "metadata": {},
     "output_type": "execute_result"
    }
   ],
   "source": [
    "2 > 1"
   ]
  },
  {
   "cell_type": "code",
   "execution_count": 34,
   "id": "fe5d37d0",
   "metadata": {},
   "outputs": [
    {
     "data": {
      "text/plain": [
       "True"
      ]
     },
     "execution_count": 34,
     "metadata": {},
     "output_type": "execute_result"
    }
   ],
   "source": [
    "1 >= 1"
   ]
  },
  {
   "cell_type": "code",
   "execution_count": 36,
   "id": "4dda8f38",
   "metadata": {},
   "outputs": [
    {
     "data": {
      "text/plain": [
       "True"
      ]
     },
     "execution_count": 36,
     "metadata": {},
     "output_type": "execute_result"
    }
   ],
   "source": [
    "10 <= 40"
   ]
  },
  {
   "cell_type": "markdown",
   "id": "723de799",
   "metadata": {},
   "source": [
    "## Condicionales"
   ]
  },
  {
   "cell_type": "code",
   "execution_count": 37,
   "id": "d6605e05",
   "metadata": {},
   "outputs": [
    {
     "name": "stdout",
     "output_type": "stream",
     "text": [
      "10\n"
     ]
    }
   ],
   "source": [
    "a = 10\n",
    "\n",
    "if a == 10:\n",
    "    print(10)"
   ]
  },
  {
   "cell_type": "code",
   "execution_count": 38,
   "id": "d42dbe88",
   "metadata": {},
   "outputs": [],
   "source": [
    "if a < 4:\n",
    "    print(\"hola\")"
   ]
  },
  {
   "cell_type": "code",
   "execution_count": 39,
   "id": "afa3f88c",
   "metadata": {},
   "outputs": [
    {
     "name": "stdout",
     "output_type": "stream",
     "text": [
      "Ahora si\n"
     ]
    }
   ],
   "source": [
    "if a < 4:\n",
    "    print(\"hola\")\n",
    "else:\n",
    "    print(\"Ahora si\")"
   ]
  },
  {
   "cell_type": "code",
   "execution_count": 41,
   "id": "69642cfe",
   "metadata": {},
   "outputs": [
    {
     "name": "stdout",
     "output_type": "stream",
     "text": [
      "ok\n"
     ]
    }
   ],
   "source": [
    "a = 2\n",
    "b = 3\n",
    "\n",
    "if a*b == 6:\n",
    "    print(\"ok\")"
   ]
  },
  {
   "cell_type": "code",
   "execution_count": 42,
   "id": "a550b686",
   "metadata": {},
   "outputs": [
    {
     "name": "stdout",
     "output_type": "stream",
     "text": [
      "no\n"
     ]
    }
   ],
   "source": [
    "if a == 1:\n",
    "    print(\"si\")\n",
    "elif b == 3:\n",
    "    print(\"no\")\n",
    "else:\n",
    "    print(\"chao\")"
   ]
  },
  {
   "cell_type": "markdown",
   "id": "6eefb23a",
   "metadata": {},
   "source": [
    "## Ciclos for"
   ]
  },
  {
   "cell_type": "code",
   "execution_count": 43,
   "id": "f382f4ea",
   "metadata": {},
   "outputs": [
    {
     "name": "stdout",
     "output_type": "stream",
     "text": [
      "1\n",
      "2\n",
      "3\n"
     ]
    }
   ],
   "source": [
    "for num in [1,2,3]:\n",
    "    print(num)"
   ]
  },
  {
   "cell_type": "code",
   "execution_count": 44,
   "id": "df360748",
   "metadata": {},
   "outputs": [
    {
     "data": {
      "text/plain": [
       "range(1, 10)"
      ]
     },
     "execution_count": 44,
     "metadata": {},
     "output_type": "execute_result"
    }
   ],
   "source": [
    "range(1,10)"
   ]
  },
  {
   "cell_type": "code",
   "execution_count": 45,
   "id": "b91642f6",
   "metadata": {},
   "outputs": [
    {
     "data": {
      "text/plain": [
       "[1, 2, 3, 4, 5, 6, 7, 8, 9]"
      ]
     },
     "execution_count": 45,
     "metadata": {},
     "output_type": "execute_result"
    }
   ],
   "source": [
    "list(range(1,10))"
   ]
  },
  {
   "cell_type": "code",
   "execution_count": 46,
   "id": "80f631c7",
   "metadata": {},
   "outputs": [
    {
     "name": "stdout",
     "output_type": "stream",
     "text": [
      "[1, 2, 3, 4, 5, 6, 7, 8, 9]\n"
     ]
    }
   ],
   "source": [
    "a = []\n",
    "\n",
    "for num in range(1,10):\n",
    "    a.append(num)\n",
    "    \n",
    "print(a)"
   ]
  },
  {
   "cell_type": "markdown",
   "id": "e6561f4f",
   "metadata": {},
   "source": [
    "## Funciones"
   ]
  },
  {
   "cell_type": "code",
   "execution_count": 47,
   "id": "55a4cd6e",
   "metadata": {},
   "outputs": [],
   "source": [
    "def cuadrado(x):\n",
    "    return x**2"
   ]
  },
  {
   "cell_type": "code",
   "execution_count": 48,
   "id": "11dde995",
   "metadata": {},
   "outputs": [
    {
     "data": {
      "text/plain": [
       "16"
      ]
     },
     "execution_count": 48,
     "metadata": {},
     "output_type": "execute_result"
    }
   ],
   "source": [
    "cuadrado(4)"
   ]
  },
  {
   "cell_type": "code",
   "execution_count": 49,
   "id": "40577b0f",
   "metadata": {},
   "outputs": [],
   "source": [
    "def cuadrado_par(x):\n",
    "    if x % 2 == 0:\n",
    "        return x**2\n",
    "    else:\n",
    "        return \"Número impar\""
   ]
  },
  {
   "cell_type": "code",
   "execution_count": 50,
   "id": "d930f91a",
   "metadata": {},
   "outputs": [
    {
     "data": {
      "text/plain": [
       "4"
      ]
     },
     "execution_count": 50,
     "metadata": {},
     "output_type": "execute_result"
    }
   ],
   "source": [
    "cuadrado_par(2)"
   ]
  },
  {
   "cell_type": "code",
   "execution_count": 51,
   "id": "7abbc560",
   "metadata": {},
   "outputs": [
    {
     "data": {
      "text/plain": [
       "'Número impar'"
      ]
     },
     "execution_count": 51,
     "metadata": {},
     "output_type": "execute_result"
    }
   ],
   "source": [
    "cuadrado_par(3)"
   ]
  }
 ],
 "metadata": {
  "kernelspec": {
   "display_name": "Python 3",
   "language": "python",
   "name": "python3"
  },
  "language_info": {
   "codemirror_mode": {
    "name": "ipython",
    "version": 3
   },
   "file_extension": ".py",
   "mimetype": "text/x-python",
   "name": "python",
   "nbconvert_exporter": "python",
   "pygments_lexer": "ipython3",
   "version": "3.8.8"
  },
  "nbTranslate": {
   "displayLangs": [
    "*"
   ],
   "hotkey": "alt-t",
   "langInMainMenu": true,
   "sourceLang": "en",
   "targetLang": "fr",
   "useGoogleTranslate": true
  }
 },
 "nbformat": 4,
 "nbformat_minor": 5
}
