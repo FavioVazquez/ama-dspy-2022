{
 "cells": [
  {
   "cell_type": "markdown",
   "id": "4bce2923",
   "metadata": {},
   "source": [
    "# Introducción a Python en 10 mins\n",
    "\n",
    "## M.Sc. Favio Vázquez (XXX Congreso Nacional de Actuarios)"
   ]
  },
  {
   "cell_type": "markdown",
   "id": "082c907e",
   "metadata": {},
   "source": [
    "## Hello Python"
   ]
  },
  {
   "cell_type": "code",
   "execution_count": null,
   "id": "0550d8dd",
   "metadata": {},
   "outputs": [],
   "source": [
    "print(\"Hello world!\")"
   ]
  },
  {
   "cell_type": "markdown",
   "id": "6754310e",
   "metadata": {},
   "source": [
    "## Python como calculadora"
   ]
  },
  {
   "cell_type": "code",
   "execution_count": null,
   "id": "43eabd35",
   "metadata": {},
   "outputs": [],
   "source": [
    "2+2"
   ]
  },
  {
   "cell_type": "code",
   "execution_count": null,
   "id": "437a58c7",
   "metadata": {},
   "outputs": [],
   "source": [
    "3+10"
   ]
  },
  {
   "cell_type": "code",
   "execution_count": null,
   "id": "d862c2e0",
   "metadata": {},
   "outputs": [],
   "source": [
    "10-10"
   ]
  },
  {
   "cell_type": "code",
   "execution_count": null,
   "id": "21c95525",
   "metadata": {},
   "outputs": [],
   "source": [
    "12+10-2"
   ]
  },
  {
   "cell_type": "markdown",
   "id": "02f66b07",
   "metadata": {},
   "source": [
    "## Comentarios"
   ]
  },
  {
   "cell_type": "code",
   "execution_count": null,
   "id": "4a989b5a",
   "metadata": {},
   "outputs": [],
   "source": [
    "# Esto es un comentario"
   ]
  },
  {
   "cell_type": "code",
   "execution_count": null,
   "id": "d623daf8",
   "metadata": {},
   "outputs": [],
   "source": [
    "# Ya quiero hacer machine learning"
   ]
  },
  {
   "cell_type": "code",
   "execution_count": null,
   "id": "8b0378f4",
   "metadata": {},
   "outputs": [],
   "source": [
    "# Esto es una suma\n",
    "2+2"
   ]
  },
  {
   "cell_type": "markdown",
   "id": "21675c52",
   "metadata": {},
   "source": [
    "## Operaciones aritméticas"
   ]
  },
  {
   "cell_type": "code",
   "execution_count": null,
   "id": "cbaeee33",
   "metadata": {},
   "outputs": [],
   "source": [
    "# Suma\n",
    "19+20"
   ]
  },
  {
   "cell_type": "code",
   "execution_count": null,
   "id": "6c57a4a5",
   "metadata": {},
   "outputs": [],
   "source": [
    "# Resta\n",
    "10-12"
   ]
  },
  {
   "cell_type": "code",
   "execution_count": null,
   "id": "1691874b",
   "metadata": {},
   "outputs": [],
   "source": [
    "# Multiplicación\n",
    "4*20"
   ]
  },
  {
   "cell_type": "code",
   "execution_count": null,
   "id": "c86ef56a",
   "metadata": {
    "lang": "en"
   },
   "outputs": [],
   "source": [
    "# División\n",
    "10/3"
   ]
  },
  {
   "cell_type": "code",
   "execution_count": null,
   "id": "0f986637",
   "metadata": {},
   "outputs": [],
   "source": [
    "# Importancia de los signos\n",
    "\n",
    "10 - 20 * 2 - 3"
   ]
  },
  {
   "cell_type": "code",
   "execution_count": null,
   "id": "5ebaf7a5",
   "metadata": {},
   "outputs": [],
   "source": [
    "# Paréntesis\n",
    "\n",
    "(10 - 20) * (2 - 3)"
   ]
  },
  {
   "cell_type": "code",
   "execution_count": null,
   "id": "27146145",
   "metadata": {},
   "outputs": [],
   "source": [
    "# División entera\n",
    "10//3"
   ]
  },
  {
   "cell_type": "code",
   "execution_count": null,
   "id": "90e7216f",
   "metadata": {},
   "outputs": [],
   "source": [
    "# Operador módulo\n",
    "10 % 3"
   ]
  },
  {
   "cell_type": "code",
   "execution_count": null,
   "id": "f5471f37",
   "metadata": {},
   "outputs": [],
   "source": [
    "# Potencia\n",
    "\n",
    "2**10"
   ]
  },
  {
   "cell_type": "markdown",
   "id": "a3ba8d13",
   "metadata": {},
   "source": [
    "## Variables"
   ]
  },
  {
   "cell_type": "code",
   "execution_count": null,
   "id": "ab58923f",
   "metadata": {},
   "outputs": [],
   "source": [
    "a = 2"
   ]
  },
  {
   "cell_type": "code",
   "execution_count": null,
   "id": "e40f7a33",
   "metadata": {},
   "outputs": [],
   "source": [
    "b = 3"
   ]
  },
  {
   "cell_type": "code",
   "execution_count": null,
   "id": "1e29a466",
   "metadata": {},
   "outputs": [],
   "source": [
    "a + b"
   ]
  },
  {
   "cell_type": "code",
   "execution_count": null,
   "id": "bc2c0aab",
   "metadata": {},
   "outputs": [],
   "source": [
    "c = a + b"
   ]
  },
  {
   "cell_type": "code",
   "execution_count": null,
   "id": "f70724a5",
   "metadata": {},
   "outputs": [],
   "source": [
    "a = 3"
   ]
  },
  {
   "cell_type": "code",
   "execution_count": null,
   "id": "478e8f22",
   "metadata": {},
   "outputs": [],
   "source": [
    "c"
   ]
  },
  {
   "cell_type": "code",
   "execution_count": null,
   "id": "20424350",
   "metadata": {},
   "outputs": [],
   "source": [
    "c = c + c"
   ]
  },
  {
   "cell_type": "code",
   "execution_count": null,
   "id": "024e5a7e",
   "metadata": {},
   "outputs": [],
   "source": [
    "c"
   ]
  },
  {
   "cell_type": "markdown",
   "id": "0d752546",
   "metadata": {},
   "source": [
    "## Tipos de datos"
   ]
  },
  {
   "cell_type": "code",
   "execution_count": null,
   "id": "8e5697b6",
   "metadata": {},
   "outputs": [],
   "source": [
    "print(\"Entero:\", 2)\n",
    "print(\"Flotante:\", 3.4)\n",
    "print(\"String:\", \"hola\")\n",
    "print(\"Lista:\", [1,2,3])\n",
    "print(\"Tupla:\", (1,2,33))\n",
    "print(\"Diccionario:\", {\"nombre\":\"Favio\"})"
   ]
  },
  {
   "cell_type": "markdown",
   "id": "bce2d3ef",
   "metadata": {},
   "source": [
    "## Indexado y slicing"
   ]
  },
  {
   "cell_type": "code",
   "execution_count": null,
   "id": "32eaff72",
   "metadata": {},
   "outputs": [],
   "source": [
    "mi_lista = [1,2,3,4,5]"
   ]
  },
  {
   "cell_type": "code",
   "execution_count": null,
   "id": "d1b110aa",
   "metadata": {},
   "outputs": [],
   "source": [
    "mi_lista[0]"
   ]
  },
  {
   "cell_type": "code",
   "execution_count": null,
   "id": "a536ff69",
   "metadata": {},
   "outputs": [],
   "source": [
    "mi_lista[1]"
   ]
  },
  {
   "cell_type": "code",
   "execution_count": null,
   "id": "277edacf",
   "metadata": {},
   "outputs": [],
   "source": [
    "mi_lista[1:3]"
   ]
  },
  {
   "cell_type": "code",
   "execution_count": null,
   "id": "8b042778",
   "metadata": {},
   "outputs": [],
   "source": [
    "mi_lista[-1]"
   ]
  },
  {
   "cell_type": "markdown",
   "id": "9e8ea114",
   "metadata": {},
   "source": [
    "## Operadores lógicos"
   ]
  },
  {
   "cell_type": "code",
   "execution_count": null,
   "id": "d8636320",
   "metadata": {},
   "outputs": [],
   "source": [
    "1 == 1"
   ]
  },
  {
   "cell_type": "code",
   "execution_count": null,
   "id": "b07d4e43",
   "metadata": {},
   "outputs": [],
   "source": [
    "2 < 1"
   ]
  },
  {
   "cell_type": "code",
   "execution_count": null,
   "id": "018ef82b",
   "metadata": {},
   "outputs": [],
   "source": [
    "2 > 1"
   ]
  },
  {
   "cell_type": "code",
   "execution_count": null,
   "id": "fe5d37d0",
   "metadata": {},
   "outputs": [],
   "source": [
    "1 >= 1"
   ]
  },
  {
   "cell_type": "code",
   "execution_count": null,
   "id": "4dda8f38",
   "metadata": {},
   "outputs": [],
   "source": [
    "10 <= 40"
   ]
  },
  {
   "cell_type": "markdown",
   "id": "723de799",
   "metadata": {},
   "source": [
    "## Condicionales"
   ]
  },
  {
   "cell_type": "code",
   "execution_count": null,
   "id": "d6605e05",
   "metadata": {},
   "outputs": [],
   "source": [
    "a = 10\n",
    "\n",
    "if a == 10:\n",
    "    print(10)"
   ]
  },
  {
   "cell_type": "code",
   "execution_count": null,
   "id": "d42dbe88",
   "metadata": {},
   "outputs": [],
   "source": [
    "if a < 4:\n",
    "    print(\"hola\")"
   ]
  },
  {
   "cell_type": "code",
   "execution_count": null,
   "id": "afa3f88c",
   "metadata": {},
   "outputs": [],
   "source": [
    "if a < 4:\n",
    "    print(\"hola\")\n",
    "else:\n",
    "    print(\"Ahora si\")"
   ]
  },
  {
   "cell_type": "code",
   "execution_count": null,
   "id": "69642cfe",
   "metadata": {},
   "outputs": [],
   "source": [
    "a = 2\n",
    "b = 3\n",
    "\n",
    "if a*b == 6:\n",
    "    print(\"ok\")"
   ]
  },
  {
   "cell_type": "code",
   "execution_count": null,
   "id": "a550b686",
   "metadata": {},
   "outputs": [],
   "source": [
    "if a == 1:\n",
    "    print(\"si\")\n",
    "elif b == 3:\n",
    "    print(\"no\")\n",
    "else:\n",
    "    print(\"chao\")"
   ]
  },
  {
   "cell_type": "markdown",
   "id": "6eefb23a",
   "metadata": {},
   "source": [
    "## Ciclos for"
   ]
  },
  {
   "cell_type": "code",
   "execution_count": null,
   "id": "f382f4ea",
   "metadata": {},
   "outputs": [],
   "source": [
    "for num in [1,2,3]:\n",
    "    print(num)"
   ]
  },
  {
   "cell_type": "code",
   "execution_count": null,
   "id": "df360748",
   "metadata": {},
   "outputs": [],
   "source": [
    "range(1,10)"
   ]
  },
  {
   "cell_type": "code",
   "execution_count": null,
   "id": "b91642f6",
   "metadata": {},
   "outputs": [],
   "source": [
    "list(range(1,10))"
   ]
  },
  {
   "cell_type": "code",
   "execution_count": null,
   "id": "80f631c7",
   "metadata": {},
   "outputs": [],
   "source": [
    "a = []\n",
    "\n",
    "for num in range(1,10):\n",
    "    a.append(num)\n",
    "    \n",
    "print(a)"
   ]
  },
  {
   "cell_type": "markdown",
   "id": "e6561f4f",
   "metadata": {},
   "source": [
    "## Funciones"
   ]
  },
  {
   "cell_type": "code",
   "execution_count": null,
   "id": "55a4cd6e",
   "metadata": {},
   "outputs": [],
   "source": [
    "def cuadrado(x):\n",
    "    return x**2"
   ]
  },
  {
   "cell_type": "code",
   "execution_count": null,
   "id": "11dde995",
   "metadata": {},
   "outputs": [],
   "source": [
    "cuadrado(4)"
   ]
  },
  {
   "cell_type": "code",
   "execution_count": null,
   "id": "40577b0f",
   "metadata": {},
   "outputs": [],
   "source": [
    "def cuadrado_par(x):\n",
    "    if x % 2 == 0:\n",
    "        return x**2\n",
    "    else:\n",
    "        return \"Número impar\""
   ]
  },
  {
   "cell_type": "code",
   "execution_count": null,
   "id": "d930f91a",
   "metadata": {},
   "outputs": [],
   "source": [
    "cuadrado_par(2)"
   ]
  },
  {
   "cell_type": "code",
   "execution_count": null,
   "id": "7abbc560",
   "metadata": {},
   "outputs": [],
   "source": [
    "cuadrado_par(3)"
   ]
  }
 ],
 "metadata": {
  "kernelspec": {
   "display_name": "Python 3",
   "language": "python",
   "name": "python3"
  },
  "language_info": {
   "codemirror_mode": {
    "name": "ipython",
    "version": 3
   },
   "file_extension": ".py",
   "mimetype": "text/x-python",
   "name": "python",
   "nbconvert_exporter": "python",
   "pygments_lexer": "ipython3",
   "version": "3.8.8"
  },
  "nbTranslate": {
   "displayLangs": [
    "*"
   ],
   "hotkey": "alt-t",
   "langInMainMenu": true,
   "sourceLang": "en",
   "targetLang": "fr",
   "useGoogleTranslate": true
  }
 },
 "nbformat": 4,
 "nbformat_minor": 5
}
